{
 "cells": [
  {
   "cell_type": "code",
   "execution_count": 5,
   "id": "00b8d205-f48b-4fb1-b64a-83a1b80abecd",
   "metadata": {},
   "outputs": [
    {
     "name": "stdout",
     "output_type": "stream",
     "text": [
      "Collecting mlxtend\n",
      "  Downloading mlxtend-0.23.4-py3-none-any.whl.metadata (7.3 kB)\n",
      "Requirement already satisfied: scipy>=1.2.1 in c:\\users\\user\\anaconda3\\lib\\site-packages (from mlxtend) (1.13.1)\n",
      "Requirement already satisfied: numpy>=1.16.2 in c:\\users\\user\\anaconda3\\lib\\site-packages (from mlxtend) (1.26.4)\n",
      "Requirement already satisfied: pandas>=0.24.2 in c:\\users\\user\\anaconda3\\lib\\site-packages (from mlxtend) (2.2.2)\n",
      "Requirement already satisfied: scikit-learn>=1.3.1 in c:\\users\\user\\anaconda3\\lib\\site-packages (from mlxtend) (1.7.1)\n",
      "Requirement already satisfied: matplotlib>=3.0.0 in c:\\users\\user\\anaconda3\\lib\\site-packages (from mlxtend) (3.9.2)\n",
      "Requirement already satisfied: joblib>=0.13.2 in c:\\users\\user\\anaconda3\\lib\\site-packages (from mlxtend) (1.4.2)\n",
      "Requirement already satisfied: contourpy>=1.0.1 in c:\\users\\user\\anaconda3\\lib\\site-packages (from matplotlib>=3.0.0->mlxtend) (1.2.0)\n",
      "Requirement already satisfied: cycler>=0.10 in c:\\users\\user\\anaconda3\\lib\\site-packages (from matplotlib>=3.0.0->mlxtend) (0.11.0)\n",
      "Requirement already satisfied: fonttools>=4.22.0 in c:\\users\\user\\anaconda3\\lib\\site-packages (from matplotlib>=3.0.0->mlxtend) (4.51.0)\n",
      "Requirement already satisfied: kiwisolver>=1.3.1 in c:\\users\\user\\anaconda3\\lib\\site-packages (from matplotlib>=3.0.0->mlxtend) (1.4.4)\n",
      "Requirement already satisfied: packaging>=20.0 in c:\\users\\user\\anaconda3\\lib\\site-packages (from matplotlib>=3.0.0->mlxtend) (24.1)\n",
      "Requirement already satisfied: pillow>=8 in c:\\users\\user\\anaconda3\\lib\\site-packages (from matplotlib>=3.0.0->mlxtend) (10.4.0)\n",
      "Requirement already satisfied: pyparsing>=2.3.1 in c:\\users\\user\\anaconda3\\lib\\site-packages (from matplotlib>=3.0.0->mlxtend) (3.1.2)\n",
      "Requirement already satisfied: python-dateutil>=2.7 in c:\\users\\user\\anaconda3\\lib\\site-packages (from matplotlib>=3.0.0->mlxtend) (2.9.0.post0)\n",
      "Requirement already satisfied: pytz>=2020.1 in c:\\users\\user\\anaconda3\\lib\\site-packages (from pandas>=0.24.2->mlxtend) (2024.1)\n",
      "Requirement already satisfied: tzdata>=2022.7 in c:\\users\\user\\anaconda3\\lib\\site-packages (from pandas>=0.24.2->mlxtend) (2023.3)\n",
      "Requirement already satisfied: threadpoolctl>=3.1.0 in c:\\users\\user\\anaconda3\\lib\\site-packages (from scikit-learn>=1.3.1->mlxtend) (3.5.0)\n",
      "Requirement already satisfied: six>=1.5 in c:\\users\\user\\anaconda3\\lib\\site-packages (from python-dateutil>=2.7->matplotlib>=3.0.0->mlxtend) (1.16.0)\n",
      "Downloading mlxtend-0.23.4-py3-none-any.whl (1.4 MB)\n",
      "   ---------------------------------------- 0.0/1.4 MB ? eta -:--:--\n",
      "   ---------------------------------------- 1.4/1.4 MB 8.7 MB/s eta 0:00:00\n",
      "Installing collected packages: mlxtend\n",
      "Successfully installed mlxtend-0.23.4\n"
     ]
    }
   ],
   "source": [
    "!pip install mlxtend\n"
   ]
  },
  {
   "cell_type": "code",
   "execution_count": 11,
   "id": "ef3e8ce1-33e0-467f-a6d8-af1d53582083",
   "metadata": {},
   "outputs": [],
   "source": [
    "import pandas as pd\n",
    "from mlxtend.frequent_patterns import apriori, association_rules"
   ]
  },
  {
   "cell_type": "code",
   "execution_count": 13,
   "id": "650f2ed9-270a-4902-abb2-2c06d5f3c32f",
   "metadata": {},
   "outputs": [],
   "source": [
    "# Load dataset\n",
    "df = pd.read_excel(\"PPA Excel.xlsx\", sheet_name=\"PPA XL files\")\n"
   ]
  },
  {
   "cell_type": "code",
   "execution_count": 45,
   "id": "8f612723-c1c9-416f-baef-f566def85b4a",
   "metadata": {},
   "outputs": [],
   "source": [
    "df = df[['BillNo', 'Itemname']].dropna()"
   ]
  },
  {
   "cell_type": "code",
   "execution_count": 47,
   "id": "349dad76-5fea-42d6-b93a-fbe8ab0e5fda",
   "metadata": {},
   "outputs": [
    {
     "data": {
      "text/html": [
       "<div>\n",
       "<style scoped>\n",
       "    .dataframe tbody tr th:only-of-type {\n",
       "        vertical-align: middle;\n",
       "    }\n",
       "\n",
       "    .dataframe tbody tr th {\n",
       "        vertical-align: top;\n",
       "    }\n",
       "\n",
       "    .dataframe thead th {\n",
       "        text-align: right;\n",
       "    }\n",
       "</style>\n",
       "<table border=\"1\" class=\"dataframe\">\n",
       "  <thead>\n",
       "    <tr style=\"text-align: right;\">\n",
       "      <th></th>\n",
       "      <th>BillNo</th>\n",
       "      <th>Itemname</th>\n",
       "    </tr>\n",
       "  </thead>\n",
       "  <tbody>\n",
       "    <tr>\n",
       "      <th>0</th>\n",
       "      <td>536365</td>\n",
       "      <td>WHITE HANGING HEART T-LIGHT HOLDER</td>\n",
       "    </tr>\n",
       "    <tr>\n",
       "      <th>1</th>\n",
       "      <td>536365</td>\n",
       "      <td>WHITE METAL LANTERN</td>\n",
       "    </tr>\n",
       "    <tr>\n",
       "      <th>2</th>\n",
       "      <td>536365</td>\n",
       "      <td>CREAM CUPID HEARTS COAT HANGER</td>\n",
       "    </tr>\n",
       "    <tr>\n",
       "      <th>3</th>\n",
       "      <td>536365</td>\n",
       "      <td>KNITTED UNION FLAG HOT WATER BOTTLE</td>\n",
       "    </tr>\n",
       "    <tr>\n",
       "      <th>4</th>\n",
       "      <td>536365</td>\n",
       "      <td>RED WOOLLY HOTTIE WHITE HEART.</td>\n",
       "    </tr>\n",
       "  </tbody>\n",
       "</table>\n",
       "</div>"
      ],
      "text/plain": [
       "   BillNo                             Itemname\n",
       "0  536365   WHITE HANGING HEART T-LIGHT HOLDER\n",
       "1  536365                  WHITE METAL LANTERN\n",
       "2  536365       CREAM CUPID HEARTS COAT HANGER\n",
       "3  536365  KNITTED UNION FLAG HOT WATER BOTTLE\n",
       "4  536365       RED WOOLLY HOTTIE WHITE HEART."
      ]
     },
     "execution_count": 47,
     "metadata": {},
     "output_type": "execute_result"
    }
   ],
   "source": [
    "df.head()"
   ]
  },
  {
   "cell_type": "code",
   "execution_count": 49,
   "id": "d64c4ee5-0ab6-4fe1-9cf8-26c788b147f1",
   "metadata": {},
   "outputs": [],
   "source": [
    "item_freq = df['Itemname'].value_counts()\n",
    "common_items = item_freq[item_freq > 100].index\n",
    "df = df[df['Itemname'].isin(common_items)]\n"
   ]
  },
  {
   "cell_type": "code",
   "execution_count": 51,
   "id": "6344bda1-06bc-45df-8d16-e702da1d74f0",
   "metadata": {},
   "outputs": [],
   "source": [
    "basket = (df.groupby(['BillNo', 'Itemname'])['Itemname']\n",
    "          .count().unstack().reset_index().fillna(0)\n",
    "          .set_index('BillNo'))"
   ]
  },
  {
   "cell_type": "code",
   "execution_count": 53,
   "id": "7faef1b1-0ed0-4800-9072-914c6d9fbd0d",
   "metadata": {},
   "outputs": [],
   "source": [
    "basket = basket.astype(bool)"
   ]
  },
  {
   "cell_type": "code",
   "execution_count": 55,
   "id": "0b5d5495-5550-469a-8b41-4c1bc85bf161",
   "metadata": {},
   "outputs": [],
   "source": [
    "frequent_items = apriori(\n",
    "    basket,\n",
    "    min_support=0.05,   # Only keep itemsets bought in >= 5% of transactions\n",
    "    use_colnames=True,\n",
    "    max_len=3           # Restrict itemsets to 2-3 items\n",
    ")"
   ]
  },
  {
   "cell_type": "code",
   "execution_count": 57,
   "id": "16e728b4-8326-47fd-bbec-0cf4356a1426",
   "metadata": {},
   "outputs": [],
   "source": [
    "rules = association_rules(frequent_items, metric=\"lift\", min_threshold=1)"
   ]
  },
  {
   "cell_type": "code",
   "execution_count": 59,
   "id": "f07c6e74-6f8f-4a8d-a821-cb0a04b2baff",
   "metadata": {},
   "outputs": [
    {
     "name": "stdout",
     "output_type": "stream",
     "text": [
      "Frequent Itemsets:\n",
      "    support                           itemsets\n",
      "0  0.053083         (ALARM CLOCK BAKELIKE RED)\n",
      "1  0.073965    (ASSORTED COLOUR BIRD ORNAMENT)\n",
      "2  0.050395  (GREEN REGENCY TEACUP AND SAUCER)\n",
      "3  0.061043            (HEART OF WICKER SMALL)\n",
      "4  0.057683           (JAM MAKING SET PRINTED)\n",
      "\n",
      "Association Rules:\n",
      "Empty DataFrame\n",
      "Columns: [antecedents, consequents, support, confidence, lift]\n",
      "Index: []\n"
     ]
    }
   ],
   "source": [
    "# Show results\n",
    "print(\"Frequent Itemsets:\")\n",
    "print(frequent_items.head())\n",
    "\n",
    "print(\"\\nAssociation Rules:\")\n",
    "print(rules[['antecedents', 'consequents', 'support', 'confidence', 'lift']].head())\n"
   ]
  },
  {
   "cell_type": "code",
   "execution_count": 61,
   "id": "84d01caa-8aca-4031-92eb-565e588d4886",
   "metadata": {},
   "outputs": [
    {
     "name": "stdout",
     "output_type": "stream",
     "text": [
      "Empty DataFrame\n",
      "Columns: [antecedents, consequents, antecedent support, consequent support, support, confidence, lift, representativity, leverage, conviction, zhangs_metric, jaccard, certainty, kulczynski]\n",
      "Index: []\n"
     ]
    }
   ],
   "source": [
    "# Keep only strong, balanced rules\n",
    "balanced_rules = rules[\n",
    "    (rules['support'] >= 0.05) &       # at least 5% transactions\n",
    "    (rules['confidence'] >= 0.6) &     # at least 60% reliable\n",
    "    (rules['lift'] > 1.2)              # not random, but meaningful\n",
    "]\n",
    "\n",
    "print(balanced_rules.head())\n"
   ]
  },
  {
   "cell_type": "code",
   "execution_count": null,
   "id": "a1fc15bc-83a9-455b-a3e3-f21dd5356158",
   "metadata": {},
   "outputs": [],
   "source": []
  }
 ],
 "metadata": {
  "kernelspec": {
   "display_name": "Python [conda env:base] *",
   "language": "python",
   "name": "conda-base-py"
  },
  "language_info": {
   "codemirror_mode": {
    "name": "ipython",
    "version": 3
   },
   "file_extension": ".py",
   "mimetype": "text/x-python",
   "name": "python",
   "nbconvert_exporter": "python",
   "pygments_lexer": "ipython3",
   "version": "3.12.7"
  }
 },
 "nbformat": 4,
 "nbformat_minor": 5
}
